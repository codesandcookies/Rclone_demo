{
 "cells": [
  {
   "cell_type": "markdown",
   "metadata": {},
   "source": [
    "# RCLONE\n",
    "\n",
    "## Donwload\n",
    "\n",
    "https://rclone.org/downloads/\n",
    "\n",
    "## Install\n",
    "\n",
    "https://rclone.org/install/\n",
    "- sudo chmod 755 \"Path to rclone\"\n",
    "- chmod 755 rclone (remote server)\n",
    "\n",
    "\n",
    "In .bashrc\n",
    "\n",
    "- export PATH=\"rclone directory:$PATH\"\n",
    "\n",
    "\n",
    "## Set up\n",
    "- rclone config"
   ]
  },
  {
   "cell_type": "raw",
   "metadata": {},
   "source": [
    "e) Edit existing remote\n",
    "n) New remote\n",
    "d) Delete remote\n",
    "r) Rename remote\n",
    "c) Copy remote\n",
    "s) Set configuration password\n",
    "q) Quit config"
   ]
  },
  {
   "cell_type": "markdown",
   "metadata": {},
   "source": [
    "## Commands"
   ]
  },
  {
   "cell_type": "raw",
   "metadata": {},
   "source": [
    "Usage:\n",
    "  rclone [flags]\n",
    "  rclone [command]\n",
    "\n",
    "Available Commands:\n",
    "  authorize       Remote authorization.\n",
    "  cat             Concatenates any files and sends them to stdout.\n",
    "  check           Checks the files in the source and destination match.\n",
    "  cleanup         Clean up the remote if possible\n",
    "  config          Enter an interactive configuration session.\n",
    "  copy            Copy files from source to dest, skipping already copied\n",
    "  copyto          Copy files from source to dest, skipping already copied\n",
    "  cryptcheck      Cryptcheck checks the integrity of a crypted remote.\n",
    "  cryptdecode     Cryptdecode returns unencrypted file names.\n",
    "  dbhashsum       Produces a Dropbbox hash file for all the objects in the path.\n",
    "  dedupe          Interactively find duplicate files delete/rename them.\n",
    "  delete          Remove the contents of path.\n",
    "  genautocomplete Output completion script for a given shell.\n",
    "  gendocs         Output markdown docs for rclone to the directory supplied.\n",
    "  help            Help about any command\n",
    "  listremotes     List all the remotes in the config file.\n",
    "  ls              List all the objects in the path with size and path.\n",
    "  lsd             List all directories/containers/buckets in the path.\n",
    "  lsjson          List directories and objects in the path in JSON format.\n",
    "  lsl             List all the objects path with modification time, size and path.\n",
    "  md5sum          Produces an md5sum file for all the objects in the path.\n",
    "  mkdir           Make the path if it doesn't already exist.\n",
    "  mount           Mount the remote as a mountpoint. **EXPERIMENTAL**\n",
    "  move            Move files from source to dest.\n",
    "  moveto          Move file or directory from source to dest.\n",
    "  ncdu            Explore a remote with a text based user interface.\n",
    "  obscure         Obscure password for use in the rclone.conf\n",
    "  purge           Remove the path and all of its contents.\n",
    "  rcat            Copies standard input to file on remote.\n",
    "  rmdir           Remove the path if empty.\n",
    "  rmdirs          Remove empty directories under the path.\n",
    "  sha1sum         Produces an sha1sum file for all the objects in the path.\n",
    "  size            Prints the total size and number of objects in remote:path.\n",
    "  sync            Make source and dest identical, modifying destination only.\n",
    "  tree            List the contents of the remote in a tree like fashion.\n",
    "  version         Show the version number.\n",
    "\n",
    "Flags:\n",
    "      --acd-templink-threshold int        Files >= this size will be downloaded via their tempLink. (default 9G)\n",
    "      --acd-upload-wait-per-gb duration   Additional time per GB to wait after a failed complete upload to see if it appears. (default 3m0s)\n",
    "      --ask-password                      Allow prompt for password for encrypted configuration. (default true)\n",
    "      --azureblob-chunk-size int          Upload chunk size. Must fit in memory. (default 4M)\n",
    "      --azureblob-upload-cutoff int       Cutoff for switching to chunked upload (default 256M)\n",
    "      --b2-chunk-size int                 Upload chunk size. Must fit in memory. (default 96M)\n",
    "      --b2-hard-delete                    Permanently delete files on remote removal, otherwise hide files.\n",
    "      --b2-test-mode string               A flag string for X-Bz-Test-Mode header.\n",
    "      --b2-upload-cutoff int              Cutoff for switching to chunked upload (default 190.735M)\n",
    "      --b2-versions                       Include old versions in directory listings.\n",
    "      --backup-dir string                 Make backups into hierarchy based in DIR.\n",
    "      --bind string                       Local address to bind to for outgoing connections, IPv4, IPv6 or name.\n",
    "      --box-upload-cutoff int             Cutoff for switching to multipart upload (default 50M)\n",
    "      --buffer-size int                   Buffer size when copying files. (default 16M)\n",
    "      --bwlimit BwTimetable               Bandwidth limit in kBytes/s, or use suffix b|k|M|G or a full timetable.\n",
    "      --checkers int                      Number of checkers to run in parallel. (default 8)\n",
    "  -c, --checksum                          Skip based on checksum & size, not mod-time & size\n",
    "      --config string                     Config file. (default \"/Users/jose/.config/rclone/rclone.conf\")\n",
    "      --contimeout duration               Connect timeout (default 1m0s)\n",
    "  -L, --copy-links                        Follow symlinks and copy the pointed to item.\n",
    "      --cpuprofile string                 Write cpu profile to file\n",
    "      --crypt-show-mapping                For all files listed show how the names encrypt.\n",
    "      --delete-after                      When synchronizing, delete files on destination after transfering\n",
    "      --delete-before                     When synchronizing, delete files on destination before transfering\n",
    "      --delete-during                     When synchronizing, delete files during transfer (default)\n",
    "      --delete-excluded                   Delete files on dest excluded from sync\n",
    "      --disable string                    Disable a comma separated list of features.  Use help to see a list.\n",
    "      --drive-auth-owner-only             Only consider files owned by the authenticated user.\n",
    "      --drive-chunk-size int              Upload chunk size. Must a power of 2 >= 256k. (default 8M)\n",
    "      --drive-formats string              Comma separated list of preferred formats for downloading Google docs. (default \"docx,xlsx,pptx,svg\")\n",
    "      --drive-list-chunk int              Size of listing chunk 100-1000. 0 to disable. (default 1000)\n",
    "      --drive-shared-with-me              Only show files that are shared with me\n",
    "      --drive-skip-gdocs                  Skip google documents in all listings.\n",
    "      --drive-trashed-only                Only show files that are in the trash\n",
    "      --drive-upload-cutoff int           Cutoff for switching to chunked upload (default 8M)\n",
    "      --drive-use-trash                   Send files to the trash instead of deleting permanently. (default true)\n",
    "      --dropbox-chunk-size int            Upload chunk size. Max 150M. (default 128M)\n",
    "  -n, --dry-run                           Do a trial run with no permanent changes\n",
    "      --dump-auth                         Dump HTTP headers with auth info\n",
    "      --dump-bodies                       Dump HTTP headers and bodies - may contain sensitive info\n",
    "      --dump-filters                      Dump the filters to the output\n",
    "      --dump-headers                      Dump HTTP headers - may contain sensitive info\n",
    "      --exclude stringArray               Exclude files matching pattern\n",
    "      --exclude-from stringArray          Read exclude patterns from file\n",
    "      --fast-list                         Use recursive list if available. Uses more memory but fewer transactions.\n",
    "      --files-from stringArray            Read list of source-file names from file\n",
    "  -f, --filter stringArray                Add a file-filtering rule\n",
    "      --filter-from stringArray           Read filtering patterns from a file\n",
    "      --gcs-location string               Default location for buckets (us|eu|asia|us-central1|us-east1|us-east4|us-west1|asia-east1|asia-noetheast1|asia-southeast1|australia-southeast1|europe-west1|europe-west2).\n",
    "      --gcs-storage-class string          Default storage class for buckets (MULTI_REGIONAL|REGIONAL|STANDARD|NEARLINE|COLDLINE|DURABLE_REDUCED_AVAILABILITY).\n",
    "  -h, --help                              help for rclone\n",
    "      --ignore-checksum                   Skip post copy check of checksums.\n",
    "      --ignore-existing                   Skip all files that exist on destination\n",
    "      --ignore-size                       Ignore size when skipping use mod-time or checksum.\n",
    "  -I, --ignore-times                      Don't skip files that match size and time - transfer all files\n",
    "      --immutable                         Do not modify files. Fail if existing files have been modified.\n",
    "      --include stringArray               Include files matching pattern\n",
    "      --include-from stringArray          Read include patterns from file\n",
    "      --local-no-unicode-normalization    Don't apply unicode normalization to paths and filenames\n",
    "      --log-file string                   Log everything to this file\n",
    "      --log-level string                  Log level DEBUG|INFO|NOTICE|ERROR (default \"NOTICE\")\n",
    "      --low-level-retries int             Number of low level retries to do. (default 10)\n",
    "      --max-age string                    Don't transfer any file older than this in s or suffix ms|s|m|h|d|w|M|y\n",
    "      --max-depth int                     If set limits the recursion depth to this. (default -1)\n",
    "      --max-size int                      Don't transfer any file larger than this in k or suffix b|k|M|G (default off)\n",
    "      --memprofile string                 Write memory profile to file\n",
    "      --min-age string                    Don't transfer any file younger than this in s or suffix ms|s|m|h|d|w|M|y\n",
    "      --min-size int                      Don't transfer any file smaller than this in k or suffix b|k|M|G (default off)\n",
    "      --modify-window duration            Max time diff to be considered the same (default 1ns)\n",
    "      --no-check-certificate              Do not verify the server SSL certificate. Insecure.\n",
    "      --no-gzip-encoding                  Don't set Accept-Encoding: gzip.\n",
    "      --no-traverse                       Don't traverse destination file system on copy.\n",
    "      --no-update-modtime                 Don't update destination mod-time if files identical.\n",
    "      --old-sync-method                   Deprecated - use --fast-list instead\n",
    "  -x, --one-file-system                   Don't cross filesystem boundaries.\n",
    "      --onedrive-chunk-size int           Above this size files will be chunked - must be multiple of 320k. (default 10M)\n",
    "      --onedrive-upload-cutoff int        Cutoff for switching to chunked upload - must be <= 100MB (default 10M)\n",
    "  -q, --quiet                             Print as little stuff as possible\n",
    "      --retries int                       Retry operations this many times if they fail (default 3)\n",
    "      --s3-acl string                     Canned ACL used when creating buckets and/or storing objects in S3\n",
    "      --s3-storage-class string           Storage class to use when uploading S3 objects (STANDARD|REDUCED_REDUNDANCY|STANDARD_IA)\n",
    "      --size-only                         Skip based on size only, not mod-time or checksum\n",
    "      --skip-links                        Don't warn about skipped symlinks.\n",
    "      --stats duration                    Interval between printing stats, e.g 500ms, 60s, 5m. (0 to disable) (default 1m0s)\n",
    "      --stats-log-level string            Log level to show --stats output DEBUG|INFO|NOTICE|ERROR (default \"INFO\")\n",
    "      --stats-unit string                 Show data rate in stats as either 'bits' or 'bytes'/s (default \"bytes\")\n",
    "      --streaming-upload-cutoff int       Cutoff for switching to chunked upload if file size is unknown. Upload starts after reaching cutoff or when file ends. (default 100k)\n",
    "      --suffix string                     Suffix for use with --backup-dir.\n",
    "      --swift-chunk-size int              Above this size files will be chunked into a _segments container. (default 5G)\n",
    "      --syslog                            Use Syslog for logging\n",
    "      --syslog-facility string            Facility for syslog, eg KERN,USER,... (default \"DAEMON\")\n",
    "      --timeout duration                  IO idle timeout (default 5m0s)\n",
    "      --tpslimit float                    Limit HTTP transactions per second to this.\n",
    "      --tpslimit-burst int                Max burst of transactions for --tpslimit. (default 1)\n",
    "      --track-renames                     When synchronizing, track file renames and do a server side move if possible\n",
    "      --transfers int                     Number of file transfers to run in parallel. (default 4)\n",
    "  -u, --update                            Skip files that are newer on the destination.\n",
    "      --user-agent string                 Set the user-agent to a specified string. The default is rclone/ version (default \"rclone/v1.38\")\n",
    "  -v, --verbose count[=-1]                Print lots more stuff (repeat for more)\n",
    "  -V, --version                           Print the version number"
   ]
  },
  {
   "cell_type": "markdown",
   "metadata": {},
   "source": [
    "## Copy to drive\n",
    "\n",
    "- rclone copy file dest:\n",
    "- rclone copy folder dest:folder"
   ]
  },
  {
   "cell_type": "markdown",
   "metadata": {},
   "source": [
    "## Example with Python\n",
    "\n",
    "You can immediatly backup data/tables/figures \n",
    "\n",
    "In this example we have already created a remote named \"uchile\""
   ]
  },
  {
   "cell_type": "code",
   "execution_count": null,
   "metadata": {},
   "outputs": [],
   "source": [
    "import os\n",
    "import numpy as np\n",
    "import matplotlib.pyplot as plt"
   ]
  },
  {
   "cell_type": "code",
   "execution_count": null,
   "metadata": {},
   "outputs": [],
   "source": [
    "os.system(\"rclone mkdir uchile:CodeCookies/Plots\")\n"
   ]
  },
  {
   "cell_type": "code",
   "execution_count": null,
   "metadata": {},
   "outputs": [],
   "source": [
    "os.system(\"rclone delete uchile:CodeCookies/Plots\") #delete content\n",
    "os.system(\"rclone rmdir uchile:CodeCookies/Plots\") #delete empty folder"
   ]
  },
  {
   "cell_type": "code",
   "execution_count": null,
   "metadata": {},
   "outputs": [],
   "source": [
    "x=np.linspace(0,6*np.pi,1000)\n",
    "y=np.sin(x)\n",
    "\n",
    "plt.plot(x,y)\n",
    "plt.savefig('plot.png')\n",
    "plt.show()"
   ]
  },
  {
   "cell_type": "code",
   "execution_count": null,
   "metadata": {},
   "outputs": [],
   "source": [
    "os.system(\"rclone copy plot.png uchile:CodeCookies/Plots\")\n",
    "# Copies file to directory CodeCookies/Plots\n",
    "# If the folders do not exist rclone creates them"
   ]
  },
  {
   "cell_type": "code",
   "execution_count": null,
   "metadata": {},
   "outputs": [],
   "source": [
    "os.system(\"rclone copy Folder uchile:CodeCookies/\")\n",
    "# This line copies the content of Folder to the CodeCookies"
   ]
  },
  {
   "cell_type": "code",
   "execution_count": null,
   "metadata": {},
   "outputs": [],
   "source": [
    "os.system(\"rclone copy Folder uchile:CodeCookies/Folder\")\n",
    "# If you want a copy of Folder repeat the name"
   ]
  },
  {
   "cell_type": "code",
   "execution_count": null,
   "metadata": {},
   "outputs": [],
   "source": [
    "os.system(\"rclone sync A uchile:CodeCookies/B\")\n",
    "# This makes B identical to A. If you delete a file in A and then use rclone sync such file will be deleted in B"
   ]
  },
  {
   "cell_type": "code",
   "execution_count": null,
   "metadata": {},
   "outputs": [],
   "source": []
  }
 ],
 "metadata": {
  "kernelspec": {
   "display_name": "Python 3",
   "language": "python",
   "name": "python3"
  },
  "language_info": {
   "codemirror_mode": {
    "name": "ipython",
    "version": 3
   },
   "file_extension": ".py",
   "mimetype": "text/x-python",
   "name": "python",
   "nbconvert_exporter": "python",
   "pygments_lexer": "ipython3",
   "version": "3.6.7"
  }
 },
 "nbformat": 4,
 "nbformat_minor": 2
}
