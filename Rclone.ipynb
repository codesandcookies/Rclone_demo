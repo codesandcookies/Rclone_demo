{
 "cells": [
  {
   "cell_type": "markdown",
   "metadata": {},
   "source": [
    "# RCLONE\n",
    "\n",
    "## Donwload\n",
    "\n",
    "https://rclone.org/downloads/\n",
    "\n",
    "## Install\n",
    "\n",
    "https://rclone.org/install/\n",
    "- sudo chmod 755 \"Path to rclone\"\n",
    "- chmod 755 rclone (remote server)\n",
    "\n",
    "\n",
    "In .bashrc\n",
    "\n",
    "- export PATH=\"rclone directory:$PATH\"\n",
    "\n",
    "\n",
    "## Set up\n",
    "- rclone config"
   ]
  },
  {
   "cell_type": "markdown",
   "metadata": {},
   "source": [
    "- e) Edit existing remote\n",
    "- n) New remote\n",
    "- d) Delete remote\n",
    "- r) Rename remote\n",
    "- c) Copy remote\n",
    "- s) Set configuration password\n",
    "- q) Quit config"
   ]
  },
  {
   "cell_type": "markdown",
   "metadata": {},
   "source": [
    "## Commands"
   ]
  },
  {
   "cell_type": "markdown",
   "metadata": {},
   "source": [
    "![help](./help.png)"
   ]
  },
  {
   "cell_type": "markdown",
   "metadata": {},
   "source": [
    "## Copy to drive\n",
    "\n",
    "- rclone copy file dest:\n",
    "- rclone copy folder dest:folder"
   ]
  },
  {
   "cell_type": "markdown",
   "metadata": {},
   "source": [
    "## Example with Python\n",
    "\n",
    "You can immediatly backup data/tables/figures \n",
    "\n",
    "In this example we have already created a remote named \"uchile\""
   ]
  },
  {
   "cell_type": "code",
   "execution_count": null,
   "metadata": {},
   "outputs": [],
   "source": [
    "import os\n",
    "import numpy as np\n",
    "import matplotlib.pyplot as plt"
   ]
  },
  {
   "cell_type": "code",
   "execution_count": null,
   "metadata": {},
   "outputs": [],
   "source": [
    "os.system(\"rclone mkdir uchile:CodeCookies/Plots\")\n"
   ]
  },
  {
   "cell_type": "code",
   "execution_count": null,
   "metadata": {},
   "outputs": [],
   "source": [
    "os.system(\"rclone delete uchile:CodeCookies/Plots\") #delete content\n",
    "os.system(\"rclone rmdir uchile:CodeCookies/Plots\") #delete empty folder"
   ]
  },
  {
   "cell_type": "code",
   "execution_count": null,
   "metadata": {},
   "outputs": [],
   "source": [
    "x=np.linspace(0,6*np.pi,1000)\n",
    "y=np.sin(x)\n",
    "\n",
    "plt.plot(x,y)\n",
    "plt.savefig('plot.png')\n",
    "plt.show()"
   ]
  },
  {
   "cell_type": "code",
   "execution_count": null,
   "metadata": {},
   "outputs": [],
   "source": [
    "os.system(\"rclone copy plot.png uchile:CodeCookies/Plots\")\n",
    "# Copies file to directory CodeCookies/Plots\n",
    "# If the folders do not exist rclone creates them"
   ]
  },
  {
   "cell_type": "code",
   "execution_count": null,
   "metadata": {},
   "outputs": [],
   "source": [
    "os.system(\"rclone copy Folder uchile:CodeCookies/\")\n",
    "# This line copies the content of Folder to the CodeCookies"
   ]
  },
  {
   "cell_type": "code",
   "execution_count": null,
   "metadata": {},
   "outputs": [],
   "source": [
    "os.system(\"rclone copy Folder uchile:CodeCookies/Folder\")\n",
    "# If you want a copy of Folder repeat the name"
   ]
  },
  {
   "cell_type": "code",
   "execution_count": null,
   "metadata": {},
   "outputs": [],
   "source": [
    "os.system(\"rclone sync A uchile:CodeCookies/B\")\n",
    "# This makes B identical to A. If you delete a file in A and then use rclone sync such file will be deleted in B"
   ]
  },
  {
   "cell_type": "code",
   "execution_count": null,
   "metadata": {},
   "outputs": [],
   "source": []
  }
 ],
 "metadata": {
  "kernelspec": {
   "display_name": "Python 3",
   "language": "python",
   "name": "python3"
  },
  "language_info": {
   "codemirror_mode": {
    "name": "ipython",
    "version": 3
   },
   "file_extension": ".py",
   "mimetype": "text/x-python",
   "name": "python",
   "nbconvert_exporter": "python",
   "pygments_lexer": "ipython3",
   "version": "3.6.7"
  }
 },
 "nbformat": 4,
 "nbformat_minor": 2
}
